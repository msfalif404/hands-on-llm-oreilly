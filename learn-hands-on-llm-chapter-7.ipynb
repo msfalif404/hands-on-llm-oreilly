{
 "cells": [
  {
   "cell_type": "code",
   "execution_count": 9,
   "id": "52ee868b",
   "metadata": {},
   "outputs": [],
   "source": [
    "from langchain_ollama import ChatOllama\n",
    "\n",
    "llm = ChatOllama(\n",
    "    model=\"llama3.2:3b\",\n",
    "    temperature=0\n",
    ")"
   ]
  },
  {
   "cell_type": "code",
   "execution_count": 10,
   "id": "21a132e6",
   "metadata": {},
   "outputs": [
    {
     "data": {
      "text/plain": [
       "AIMessage(content='Saya sangat menyukai pemrograman.', additional_kwargs={}, response_metadata={'model': 'llama3.2:3b', 'created_at': '2025-06-14T05:15:03.5798207Z', 'done': True, 'done_reason': 'stop', 'total_duration': 4741079500, 'load_duration': 2749259600, 'prompt_eval_count': 45, 'prompt_eval_duration': 1347533100, 'eval_count': 11, 'eval_duration': 643184400, 'model_name': 'llama3.2:3b'}, id='run--a7df9047-5ea9-41d4-9964-5bc99fdfaaee-0', usage_metadata={'input_tokens': 45, 'output_tokens': 11, 'total_tokens': 56})"
      ]
     },
     "execution_count": 10,
     "metadata": {},
     "output_type": "execute_result"
    }
   ],
   "source": [
    "from langchain_core.messages import AIMessage\n",
    "\n",
    "messages = [\n",
    "    (\n",
    "        \"system\",\n",
    "        \"You are a helpful assistant that translates English to Indonesia. Translate the user sentence.\",\n",
    "    ),\n",
    "    (\"human\", \"I love programming.\"),\n",
    "]\n",
    "ai_msg = llm.invoke(messages)\n",
    "ai_msg"
   ]
  },
  {
   "cell_type": "code",
   "execution_count": null,
   "id": "bfe37277",
   "metadata": {},
   "outputs": [],
   "source": []
  }
 ],
 "metadata": {
  "kernelspec": {
   "display_name": "venv",
   "language": "python",
   "name": "python3"
  },
  "language_info": {
   "codemirror_mode": {
    "name": "ipython",
    "version": 3
   },
   "file_extension": ".py",
   "mimetype": "text/x-python",
   "name": "python",
   "nbconvert_exporter": "python",
   "pygments_lexer": "ipython3",
   "version": "3.10.0"
  }
 },
 "nbformat": 4,
 "nbformat_minor": 5
}
